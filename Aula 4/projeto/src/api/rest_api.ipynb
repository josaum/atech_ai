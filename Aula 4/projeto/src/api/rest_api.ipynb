{
 "cells": [
  {
   "cell_type": "markdown",
   "metadata": {},
   "source": [
    "# REST API Crash Course"
   ]
  },
  {
   "cell_type": "markdown",
   "metadata": {},
   "source": [
    "#### Verbos possíveis para REST:\n",
    "\n",
    "- GET: Obter um recurso \n",
    "\n",
    "- POST: Criar um recurso\n",
    "\n",
    "- PUT: Atualizar um recurso\n",
    "\n",
    "- DELETE: Deletar um recurso\n",
    "\n",
    "- PATCH: Atualizar parcialmente um recurso"
   ]
  }
 ],
 "metadata": {
  "language_info": {
   "name": "python"
  },
  "orig_nbformat": 4
 },
 "nbformat": 4,
 "nbformat_minor": 2
}

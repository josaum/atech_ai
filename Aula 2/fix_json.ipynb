{
 "cells": [
  {
   "cell_type": "code",
   "execution_count": 15,
   "metadata": {},
   "outputs": [],
   "source": [
    "import pandas as pd\n",
    "import json"
   ]
  },
  {
   "cell_type": "markdown",
   "metadata": {},
   "source": [
    "# O JSON não abre de jeito nenhum"
   ]
  },
  {
   "cell_type": "code",
   "execution_count": 16,
   "metadata": {},
   "outputs": [
    {
     "ename": "ValueError",
     "evalue": "Trailing data",
     "output_type": "error",
     "traceback": [
      "\u001b[0;31m---------------------------------------------------------------------------\u001b[0m",
      "\u001b[0;31mValueError\u001b[0m                                Traceback (most recent call last)",
      "Cell \u001b[0;32mIn[16], line 2\u001b[0m\n\u001b[1;32m      1\u001b[0m FILE_PATH \u001b[39m=\u001b[39m \u001b[39m'\u001b[39m\u001b[39m../dados/transporte_aereo/Dados_Estatisticos_2021_a_2030.json\u001b[39m\u001b[39m'\u001b[39m\n\u001b[0;32m----> 2\u001b[0m df \u001b[39m=\u001b[39m pd\u001b[39m.\u001b[39;49mread_json(FILE_PATH)\n",
      "File \u001b[0;32m~/opt/anaconda3/envs/atech-ai/lib/python3.11/site-packages/pandas/io/json/_json.py:784\u001b[0m, in \u001b[0;36mread_json\u001b[0;34m(path_or_buf, orient, typ, dtype, convert_axes, convert_dates, keep_default_dates, precise_float, date_unit, encoding, encoding_errors, lines, chunksize, compression, nrows, storage_options, dtype_backend, engine)\u001b[0m\n\u001b[1;32m    782\u001b[0m     \u001b[39mreturn\u001b[39;00m json_reader\n\u001b[1;32m    783\u001b[0m \u001b[39melse\u001b[39;00m:\n\u001b[0;32m--> 784\u001b[0m     \u001b[39mreturn\u001b[39;00m json_reader\u001b[39m.\u001b[39;49mread()\n",
      "File \u001b[0;32m~/opt/anaconda3/envs/atech-ai/lib/python3.11/site-packages/pandas/io/json/_json.py:975\u001b[0m, in \u001b[0;36mJsonReader.read\u001b[0;34m(self)\u001b[0m\n\u001b[1;32m    973\u001b[0m         obj \u001b[39m=\u001b[39m \u001b[39mself\u001b[39m\u001b[39m.\u001b[39m_get_object_parser(\u001b[39mself\u001b[39m\u001b[39m.\u001b[39m_combine_lines(data_lines))\n\u001b[1;32m    974\u001b[0m \u001b[39melse\u001b[39;00m:\n\u001b[0;32m--> 975\u001b[0m     obj \u001b[39m=\u001b[39m \u001b[39mself\u001b[39;49m\u001b[39m.\u001b[39;49m_get_object_parser(\u001b[39mself\u001b[39;49m\u001b[39m.\u001b[39;49mdata)\n\u001b[1;32m    976\u001b[0m \u001b[39mif\u001b[39;00m \u001b[39mself\u001b[39m\u001b[39m.\u001b[39mdtype_backend \u001b[39mis\u001b[39;00m \u001b[39mnot\u001b[39;00m lib\u001b[39m.\u001b[39mno_default:\n\u001b[1;32m    977\u001b[0m     \u001b[39mreturn\u001b[39;00m obj\u001b[39m.\u001b[39mconvert_dtypes(\n\u001b[1;32m    978\u001b[0m         infer_objects\u001b[39m=\u001b[39m\u001b[39mFalse\u001b[39;00m, dtype_backend\u001b[39m=\u001b[39m\u001b[39mself\u001b[39m\u001b[39m.\u001b[39mdtype_backend\n\u001b[1;32m    979\u001b[0m     )\n",
      "File \u001b[0;32m~/opt/anaconda3/envs/atech-ai/lib/python3.11/site-packages/pandas/io/json/_json.py:1001\u001b[0m, in \u001b[0;36mJsonReader._get_object_parser\u001b[0;34m(self, json)\u001b[0m\n\u001b[1;32m    999\u001b[0m obj \u001b[39m=\u001b[39m \u001b[39mNone\u001b[39;00m\n\u001b[1;32m   1000\u001b[0m \u001b[39mif\u001b[39;00m typ \u001b[39m==\u001b[39m \u001b[39m\"\u001b[39m\u001b[39mframe\u001b[39m\u001b[39m\"\u001b[39m:\n\u001b[0;32m-> 1001\u001b[0m     obj \u001b[39m=\u001b[39m FrameParser(json, \u001b[39m*\u001b[39;49m\u001b[39m*\u001b[39;49mkwargs)\u001b[39m.\u001b[39;49mparse()\n\u001b[1;32m   1003\u001b[0m \u001b[39mif\u001b[39;00m typ \u001b[39m==\u001b[39m \u001b[39m\"\u001b[39m\u001b[39mseries\u001b[39m\u001b[39m\"\u001b[39m \u001b[39mor\u001b[39;00m obj \u001b[39mis\u001b[39;00m \u001b[39mNone\u001b[39;00m:\n\u001b[1;32m   1004\u001b[0m     \u001b[39mif\u001b[39;00m \u001b[39mnot\u001b[39;00m \u001b[39misinstance\u001b[39m(dtype, \u001b[39mbool\u001b[39m):\n",
      "File \u001b[0;32m~/opt/anaconda3/envs/atech-ai/lib/python3.11/site-packages/pandas/io/json/_json.py:1134\u001b[0m, in \u001b[0;36mParser.parse\u001b[0;34m(self)\u001b[0m\n\u001b[1;32m   1133\u001b[0m \u001b[39mdef\u001b[39;00m \u001b[39mparse\u001b[39m(\u001b[39mself\u001b[39m):\n\u001b[0;32m-> 1134\u001b[0m     \u001b[39mself\u001b[39;49m\u001b[39m.\u001b[39;49m_parse()\n\u001b[1;32m   1136\u001b[0m     \u001b[39mif\u001b[39;00m \u001b[39mself\u001b[39m\u001b[39m.\u001b[39mobj \u001b[39mis\u001b[39;00m \u001b[39mNone\u001b[39;00m:\n\u001b[1;32m   1137\u001b[0m         \u001b[39mreturn\u001b[39;00m \u001b[39mNone\u001b[39;00m\n",
      "File \u001b[0;32m~/opt/anaconda3/envs/atech-ai/lib/python3.11/site-packages/pandas/io/json/_json.py:1320\u001b[0m, in \u001b[0;36mFrameParser._parse\u001b[0;34m(self)\u001b[0m\n\u001b[1;32m   1316\u001b[0m orient \u001b[39m=\u001b[39m \u001b[39mself\u001b[39m\u001b[39m.\u001b[39morient\n\u001b[1;32m   1318\u001b[0m \u001b[39mif\u001b[39;00m orient \u001b[39m==\u001b[39m \u001b[39m\"\u001b[39m\u001b[39mcolumns\u001b[39m\u001b[39m\"\u001b[39m:\n\u001b[1;32m   1319\u001b[0m     \u001b[39mself\u001b[39m\u001b[39m.\u001b[39mobj \u001b[39m=\u001b[39m DataFrame(\n\u001b[0;32m-> 1320\u001b[0m         loads(json, precise_float\u001b[39m=\u001b[39;49m\u001b[39mself\u001b[39;49m\u001b[39m.\u001b[39;49mprecise_float), dtype\u001b[39m=\u001b[39m\u001b[39mNone\u001b[39;00m\n\u001b[1;32m   1321\u001b[0m     )\n\u001b[1;32m   1322\u001b[0m \u001b[39melif\u001b[39;00m orient \u001b[39m==\u001b[39m \u001b[39m\"\u001b[39m\u001b[39msplit\u001b[39m\u001b[39m\"\u001b[39m:\n\u001b[1;32m   1323\u001b[0m     decoded \u001b[39m=\u001b[39m {\n\u001b[1;32m   1324\u001b[0m         \u001b[39mstr\u001b[39m(k): v\n\u001b[1;32m   1325\u001b[0m         \u001b[39mfor\u001b[39;00m k, v \u001b[39min\u001b[39;00m loads(json, precise_float\u001b[39m=\u001b[39m\u001b[39mself\u001b[39m\u001b[39m.\u001b[39mprecise_float)\u001b[39m.\u001b[39mitems()\n\u001b[1;32m   1326\u001b[0m     }\n",
      "\u001b[0;31mValueError\u001b[0m: Trailing data"
     ]
    }
   ],
   "source": [
    "FILE_PATH = '../dados/transporte_aereo/Dados_Estatisticos_2021_a_2030.json'\n",
    "df = pd.read_json(FILE_PATH)"
   ]
  },
  {
   "cell_type": "code",
   "execution_count": 17,
   "metadata": {},
   "outputs": [
    {
     "name": "stdout",
     "output_type": "stream",
     "text": [
      "[{\"EMPRESA_SIGLA\":null,\"EMPRESA_NOME\":\"AZUL LINHAS AÉREAS BRASILEIRAS S/A\",\"EMPRESA_NACIONALIDADE\":\"BRASILEIRA\",\"ANO\":\"2021\",\"MES\":\"1\",\"AEROPORTO_DE_ORIGEM_SIGLA\":\"KFLL\",\"AEROPORTO_DE_ORIGEM_NOME\":\"FORT LAUDERDALE/HOLLYWOOD, FLORIDA\",\"AEROPORTO_DE_ORIGEM_UF\":\"\",\"AEROPORTO_DE_ORIGEM_REGIAO\":\"\",\"AEROPORTO_DE_ORIGEM_PAIS\":\"ESTADOS UNIDOS DA AMÉRICA\",\"AEROPORTO_DE_ORIGEM_CONTINENTE\":\"AMÉRICA DO NORTE\",\"AEROPORTO_DE_DESTINO_SIGLA\":\"SBBV\",\"AEROPORTO_DE_DESTINO_NOME\":\"BOA VISTA\",\"AEROPORTO_DE_DESTINO_U\n"
     ]
    }
   ],
   "source": [
    "# 1 - ler um pedaço do arquivo\n",
    "with open(FILE_PATH, \"r\", encoding=\"utf-8\") as file:\n",
    "    json_content = file.read()\n",
    "\n",
    "# Primeiros 500 caracteres\n",
    "print(json_content[:500])\n"
   ]
  },
  {
   "cell_type": "markdown",
   "metadata": {},
   "source": [
    "### Se o arquivo parece conter JSON válido, então precisamos encontrar onde ele deixa de ser válido"
   ]
  },
  {
   "cell_type": "code",
   "execution_count": 21,
   "metadata": {},
   "outputs": [
    {
     "data": {
      "text/plain": [
       "(False, 'Extra data: line 1 column 2706309 (char 2706308)')"
      ]
     },
     "execution_count": 21,
     "metadata": {},
     "output_type": "execute_result"
    }
   ],
   "source": [
    "# Encontrando o local (posição) do erro dentro do arquivo\n",
    "try:\n",
    "    parsed_json = json.loads(json_content)\n",
    "    is_valid_json = True\n",
    "except json.JSONDecodeError as e:\n",
    "    is_valid_json = False\n",
    "    error_msg = str(e)\n",
    "\n",
    "is_valid_json, error_msg if not is_valid_json else \"JSON is valid\""
   ]
  },
  {
   "cell_type": "code",
   "execution_count": 22,
   "metadata": {},
   "outputs": [
    {
     "data": {
      "text/plain": [
       "'DA AMÉRICA\",\"AEROPORTO_DE_DESTINO_CONTINENTE\":\"AMÉRICA DO NORTE\",\"NATUREZA\":\"INTERNACIONAL\",\"GRUPO_DE_VOO\":\"REGULAR\",\"PASSAGEIROS_PAGOS\":\"0\",\"PASSAGEIROS_GRATIS\":\"0\",\"CARGA_PAGA_KG\":\"27132\",\"CARGA_GRATIS_KG\":\"1014\",\"CORREIO_KG\":\"0\",\"ASK\":\"0\",\"RPK\":\"0\",\"ATK\":\"530964\",\"RTK\":\"228668\",\"COMBUSTIVEL_LITROS\":\"0\",\"DISTANCIA_VOADA_KM\":\"8428\",\"DECOLAGENS\":\"1\",\"CARGA_PAGA_KM\":\"228668000\",\"CARGA_GRATIS_KM\":\"8545990\",\"CORREIO_KM\":\"0\",\"ASSENTOS\":\"0\",\"PAYLOAD\":\"63000\",\"HORAS_VOADAS\":\"10,267\",\"BAGAGEM_KG\":\"0\"}][{\"EMPRESA_SIGLA\":null,\"EMPRESA_NOME\":\"AZUL CONECTA LTDA. (EX TWO TAXI AEREO LTDA)\",\"EMPRESA_NACIONALIDADE\":\"BRASILEIRA\",\"ANO\":\"2021\",\"MES\":\"10\",\"AEROPORTO_DE_ORIGEM_SIGLA\":\"SBBE\",\"AEROPORTO_DE_ORIGEM_NOME\":\"BELÉM\",\"AEROPORTO_DE_ORIGEM_UF\":\"PA\",\"AEROPORTO_DE_ORIGEM_REGIAO\":\"NORTE\",\"AEROPORTO_DE_ORIGEM_PAIS\":\"BRASIL\",\"AEROPORTO_DE_ORIGEM_CONTINENTE\":\"AMÉRICA DO SUL\",\"AEROPORTO_DE_DESTINO_SIGLA\":\"SBBE\",\"AEROPORTO_DE_DESTINO_NOME\":\"BELÉM\",\"AEROPORTO_DE_DESTINO_UF\":\"PA\",\"AEROPORTO_DE_DESTINO_REGIAO\"'"
      ]
     },
     "execution_count": 22,
     "metadata": {},
     "output_type": "execute_result"
    }
   ],
   "source": [
    "# Extraindo o contexto do erro\n",
    "error_pos = 2706308\n",
    "context_range = 500  # Vamos olhar 500 caracteres para trás e para frente\n",
    "context_data = json_content[error_pos - context_range:error_pos + context_range]\n",
    "\n",
    "context_data"
   ]
  },
  {
   "cell_type": "markdown",
   "metadata": {},
   "source": [
    "### Corrigindo o erro..."
   ]
  },
  {
   "cell_type": "code",
   "execution_count": 25,
   "metadata": {},
   "outputs": [
    {
     "data": {
      "text/plain": [
       "(True, 'Resolvido!')"
      ]
     },
     "execution_count": 25,
     "metadata": {},
     "output_type": "execute_result"
    }
   ],
   "source": [
    "# Arrumando o problema que a ANAC deixou pra gente\n",
    "fixed_json_content = json_content.replace('\"}][{\"', '\"},{\"')\n",
    "\n",
    "# Tenta abrir o arquivo\n",
    "try:\n",
    "    parsed_json = json.loads(fixed_json_content)\n",
    "    is_fixed_json_valid = True\n",
    "except json.JSONDecodeError as e:\n",
    "    is_fixed_json_valid = False\n",
    "    fixed_error_msg = str(e)\n",
    "\n",
    "is_fixed_json_valid, fixed_error_msg if not is_fixed_json_valid else \"Resolvido!\"\n"
   ]
  },
  {
   "cell_type": "markdown",
   "metadata": {},
   "source": [
    "### Salvando o arquivo para podermos começar o trabalho"
   ]
  },
  {
   "cell_type": "code",
   "execution_count": 27,
   "metadata": {},
   "outputs": [
    {
     "data": {
      "text/plain": [
       "'../dados/transporte_aereo//Fixed_Dados_Estatisticos_2021_a_2030.json'"
      ]
     },
     "execution_count": 27,
     "metadata": {},
     "output_type": "execute_result"
    }
   ],
   "source": [
    "# Salvando o arquivo arrumado\n",
    "fixed_json_file_path = \"../dados/transporte_aereo//Fixed_Dados_Estatisticos_2021_a_2030.json\"\n",
    "with open(fixed_json_file_path, \"w\", encoding=\"utf-8\") as file:\n",
    "    file.write(fixed_json_content)\n",
    "\n",
    "fixed_json_file_path"
   ]
  }
 ],
 "metadata": {
  "kernelspec": {
   "display_name": "atech-ai",
   "language": "python",
   "name": "python3"
  },
  "language_info": {
   "codemirror_mode": {
    "name": "ipython",
    "version": 3
   },
   "file_extension": ".py",
   "mimetype": "text/x-python",
   "name": "python",
   "nbconvert_exporter": "python",
   "pygments_lexer": "ipython3",
   "version": "3.11.4"
  },
  "orig_nbformat": 4
 },
 "nbformat": 4,
 "nbformat_minor": 2
}

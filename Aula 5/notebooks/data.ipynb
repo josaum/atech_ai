{
 "cells": [
  {
   "cell_type": "code",
   "execution_count": 9,
   "metadata": {},
   "outputs": [],
   "source": [
    "import rpy2.robjects as ro\n",
    "from rpy2.robjects import pandas2ri\n",
    "import pandas as pd"
   ]
  },
  {
   "cell_type": "code",
   "execution_count": 10,
   "metadata": {},
   "outputs": [],
   "source": [
    "pandas2ri.activate()\n",
    "\n",
    "# Carregar o arquivo .RData\n",
    "ro.r['load'](\"../../dados/rotas_aereas/DATA_ALLROUTES_ALLDAYS.RData\")\n",
    "\n",
    "# Obter os nomes dos objetos no arquivo .RData\n",
    "rdata_names = ro.r['ls']()"
   ]
  },
  {
   "cell_type": "code",
   "execution_count": 11,
   "metadata": {},
   "outputs": [],
   "source": [
    "# exportar o primeiro objeto no arquivo .RData para .csv\n",
    "with (ro.default_converter + pandas2ri.converter).context():\n",
    "  pd_from_r_df = ro.conversion.get_conversion().rpy2py(ro.r[rdata_names[0]])\n",
    "  pd_from_r_df.to_parquet('data.parquet', engine='pyarrow')"
   ]
  }
 ],
 "metadata": {
  "kernelspec": {
   "display_name": "atech-ai",
   "language": "python",
   "name": "python3"
  },
  "language_info": {
   "codemirror_mode": {
    "name": "ipython",
    "version": 3
   },
   "file_extension": ".py",
   "mimetype": "text/x-python",
   "name": "python",
   "nbconvert_exporter": "python",
   "pygments_lexer": "ipython3",
   "version": "3.11.4"
  },
  "orig_nbformat": 4
 },
 "nbformat": 4,
 "nbformat_minor": 2
}
